{
 "cells": [
  {
   "cell_type": "markdown",
   "metadata": {},
   "source": [
    "# Machine Learning Engineer Nanodegree\n",
    "## Supervised Learning\n",
    "## Project: Building a Student Intervention System"
   ]
  },
  {
   "cell_type": "markdown",
   "metadata": {},
   "source": [
    "Welcome to the second project of the Machine Learning Engineer Nanodegree! In this notebook, some template code has already been provided for you, and it will be your job to implement the additional functionality necessary to successfully complete this project. Sections that begin with **'Implementation'** in the header indicate that the following block of code will require additional functionality which you must provide. Instructions will be provided for each section and the specifics of the implementation are marked in the code block with a `'TODO'` statement. Please be sure to read the instructions carefully!\n",
    "\n",
    "In addition to implementing code, there will be questions that you must answer which relate to the project and your implementation. Each section where you will answer a question is preceded by a **'Question X'** header. Carefully read each question and provide thorough answers in the following text boxes that begin with **'Answer:'**. Your project submission will be evaluated based on your answers to each of the questions and the implementation you provide.  \n",
    "\n",
    ">**Note:** Code and Markdown cells can be executed using the **Shift + Enter** keyboard shortcut. In addition, Markdown cells can be edited by typically double-clicking the cell to enter edit mode."
   ]
  },
  {
   "cell_type": "markdown",
   "metadata": {},
   "source": [
    "### Question 1 - Classification vs. Regression\n",
    "*Your goal for this project is to identify students who might need early intervention before they fail to graduate. Which type of supervised learning problem is this, classification or regression? Why?*"
   ]
  },
  {
   "cell_type": "markdown",
   "metadata": {},
   "source": [
    "**Answer: **classification. Because what we will predict is the target label 'passed', which is binary(yes or no). "
   ]
  },
  {
   "cell_type": "markdown",
   "metadata": {},
   "source": [
    "## Exploring the Data\n",
    "Run the code cell below to load necessary Python libraries and load the student data. Note that the last column from this dataset, `'passed'`, will be our target label (whether the student graduated or didn't graduate). All other columns are features about each student."
   ]
  },
  {
   "cell_type": "code",
   "execution_count": 1,
   "metadata": {
    "collapsed": false
   },
   "outputs": [
    {
     "name": "stdout",
     "output_type": "stream",
     "text": [
      "Student data read successfully!\n"
     ]
    }
   ],
   "source": [
    "# Import libraries\n",
    "import numpy as np\n",
    "import pandas as pd\n",
    "from time import time\n",
    "from sklearn.metrics import f1_score\n",
    "\n",
    "# Read student data\n",
    "student_data = pd.read_csv(\"student-data.csv\")\n",
    "print \"Student data read successfully!\""
   ]
  },
  {
   "cell_type": "markdown",
   "metadata": {},
   "source": [
    "### Implementation: Data Exploration\n",
    "Let's begin by investigating the dataset to determine how many students we have information on, and learn about the graduation rate among these students. In the code cell below, you will need to compute the following:\n",
    "- The total number of students, `n_students`.\n",
    "- The total number of features for each student, `n_features`.\n",
    "- The number of those students who passed, `n_passed`.\n",
    "- The number of those students who failed, `n_failed`.\n",
    "- The graduation rate of the class, `grad_rate`, in percent (%).\n"
   ]
  },
  {
   "cell_type": "code",
   "execution_count": 2,
   "metadata": {
    "collapsed": false
   },
   "outputs": [
    {
     "name": "stdout",
     "output_type": "stream",
     "text": [
      "Total number of students: 395\n",
      "Number of features: 30\n",
      "Number of students who passed: 265\n",
      "Number of students who failed: 130\n",
      "Graduation rate of the class: 67.09%\n"
     ]
    }
   ],
   "source": [
    "# TODO: Calculate number of students\n",
    "n_students = len(student_data.index)\n",
    "\n",
    "# TODO: Calculate number of features\n",
    "n_features = len(student_data.columns)-1\n",
    "\n",
    "# TODO: Calculate passing students\n",
    "n_passed = sum(student_data['passed'] == 'yes')\n",
    "\n",
    "\n",
    "# TODO: Calculate failing students\n",
    "n_failed = sum(student_data['passed'] == 'no')\n",
    "\n",
    "# TODO: Calculate graduation rate\n",
    "grad_rate = 100.0 * n_passed / n_students\n",
    "\n",
    "# Print the results\n",
    "print \"Total number of students: {}\".format(n_students)\n",
    "print \"Number of features: {}\".format(n_features)\n",
    "print \"Number of students who passed: {}\".format(n_passed)\n",
    "print \"Number of students who failed: {}\".format(n_failed)\n",
    "print \"Graduation rate of the class: {:.2f}%\".format(grad_rate)"
   ]
  },
  {
   "cell_type": "markdown",
   "metadata": {},
   "source": [
    "## Preparing the Data\n",
    "In this section, we will prepare the data for modeling, training and testing.\n",
    "\n",
    "### Identify feature and target columns\n",
    "It is often the case that the data you obtain contains non-numeric features. This can be a problem, as most machine learning algorithms expect numeric data to perform computations with.\n",
    "\n",
    "Run the code cell below to separate the student data into feature and target columns to see if any features are non-numeric."
   ]
  },
  {
   "cell_type": "code",
   "execution_count": 3,
   "metadata": {
    "collapsed": false
   },
   "outputs": [
    {
     "name": "stdout",
     "output_type": "stream",
     "text": [
      "Feature columns:\n",
      "['school', 'sex', 'age', 'address', 'famsize', 'Pstatus', 'Medu', 'Fedu', 'Mjob', 'Fjob', 'reason', 'guardian', 'traveltime', 'studytime', 'failures', 'schoolsup', 'famsup', 'paid', 'activities', 'nursery', 'higher', 'internet', 'romantic', 'famrel', 'freetime', 'goout', 'Dalc', 'Walc', 'health', 'absences']\n",
      "\n",
      "Target column: passed\n",
      "\n",
      "Feature values:\n",
      "  school sex  age address famsize Pstatus  Medu  Fedu     Mjob      Fjob  \\\n",
      "0     GP   F   18       U     GT3       A     4     4  at_home   teacher   \n",
      "1     GP   F   17       U     GT3       T     1     1  at_home     other   \n",
      "2     GP   F   15       U     LE3       T     1     1  at_home     other   \n",
      "3     GP   F   15       U     GT3       T     4     2   health  services   \n",
      "4     GP   F   16       U     GT3       T     3     3    other     other   \n",
      "\n",
      "    ...    higher internet  romantic  famrel  freetime goout Dalc Walc health  \\\n",
      "0   ...       yes       no        no       4         3     4    1    1      3   \n",
      "1   ...       yes      yes        no       5         3     3    1    1      3   \n",
      "2   ...       yes      yes        no       4         3     2    2    3      3   \n",
      "3   ...       yes      yes       yes       3         2     2    1    1      5   \n",
      "4   ...       yes       no        no       4         3     2    1    2      5   \n",
      "\n",
      "  absences  \n",
      "0        6  \n",
      "1        4  \n",
      "2       10  \n",
      "3        2  \n",
      "4        4  \n",
      "\n",
      "[5 rows x 30 columns]\n"
     ]
    }
   ],
   "source": [
    "# Extract feature columns\n",
    "feature_cols = list(student_data.columns[:-1])\n",
    "\n",
    "# Extract target column 'passed'\n",
    "target_col = student_data.columns[-1] \n",
    "\n",
    "# Show the list of columns\n",
    "print \"Feature columns:\\n{}\".format(feature_cols)\n",
    "print \"\\nTarget column: {}\".format(target_col)\n",
    "\n",
    "# Separate the data into feature data and target data (X_all and y_all, respectively)\n",
    "X_all = student_data[feature_cols]\n",
    "y_all = student_data[target_col]\n",
    "\n",
    "# Show the feature information by printing the first five rows\n",
    "print \"\\nFeature values:\"\n",
    "print X_all.head()"
   ]
  },
  {
   "cell_type": "markdown",
   "metadata": {},
   "source": [
    "### Preprocess Feature Columns\n",
    "\n",
    "As you can see, there are several non-numeric columns that need to be converted! Many of them are simply `yes`/`no`, e.g. `internet`. These can be reasonably converted into `1`/`0` (binary) values.\n",
    "\n",
    "Other columns, like `Mjob` and `Fjob`, have more than two values, and are known as _categorical variables_. The recommended way to handle such a column is to create as many columns as possible values (e.g. `Fjob_teacher`, `Fjob_other`, `Fjob_services`, etc.), and assign a `1` to one of them and `0` to all others.\n",
    "\n",
    "These generated columns are sometimes called _dummy variables_, and we will use the [`pandas.get_dummies()`](http://pandas.pydata.org/pandas-docs/stable/generated/pandas.get_dummies.html?highlight=get_dummies#pandas.get_dummies) function to perform this transformation. Run the code cell below to perform the preprocessing routine discussed in this section."
   ]
  },
  {
   "cell_type": "code",
   "execution_count": 4,
   "metadata": {
    "collapsed": false
   },
   "outputs": [
    {
     "name": "stdout",
     "output_type": "stream",
     "text": [
      "Processed feature columns (48 total features):\n",
      "['school_GP', 'school_MS', 'sex_F', 'sex_M', 'age', 'address_R', 'address_U', 'famsize_GT3', 'famsize_LE3', 'Pstatus_A', 'Pstatus_T', 'Medu', 'Fedu', 'Mjob_at_home', 'Mjob_health', 'Mjob_other', 'Mjob_services', 'Mjob_teacher', 'Fjob_at_home', 'Fjob_health', 'Fjob_other', 'Fjob_services', 'Fjob_teacher', 'reason_course', 'reason_home', 'reason_other', 'reason_reputation', 'guardian_father', 'guardian_mother', 'guardian_other', 'traveltime', 'studytime', 'failures', 'schoolsup', 'famsup', 'paid', 'activities', 'nursery', 'higher', 'internet', 'romantic', 'famrel', 'freetime', 'goout', 'Dalc', 'Walc', 'health', 'absences']\n"
     ]
    },
    {
     "data": {
      "text/plain": [
       "<bound method DataFrame.head of      school_GP  school_MS  sex_F  sex_M  age  address_R  address_U  \\\n",
       "0          1.0        0.0    1.0    0.0   18        0.0        1.0   \n",
       "1          1.0        0.0    1.0    0.0   17        0.0        1.0   \n",
       "2          1.0        0.0    1.0    0.0   15        0.0        1.0   \n",
       "3          1.0        0.0    1.0    0.0   15        0.0        1.0   \n",
       "4          1.0        0.0    1.0    0.0   16        0.0        1.0   \n",
       "5          1.0        0.0    0.0    1.0   16        0.0        1.0   \n",
       "6          1.0        0.0    0.0    1.0   16        0.0        1.0   \n",
       "7          1.0        0.0    1.0    0.0   17        0.0        1.0   \n",
       "8          1.0        0.0    0.0    1.0   15        0.0        1.0   \n",
       "9          1.0        0.0    0.0    1.0   15        0.0        1.0   \n",
       "10         1.0        0.0    1.0    0.0   15        0.0        1.0   \n",
       "11         1.0        0.0    1.0    0.0   15        0.0        1.0   \n",
       "12         1.0        0.0    0.0    1.0   15        0.0        1.0   \n",
       "13         1.0        0.0    0.0    1.0   15        0.0        1.0   \n",
       "14         1.0        0.0    0.0    1.0   15        0.0        1.0   \n",
       "15         1.0        0.0    1.0    0.0   16        0.0        1.0   \n",
       "16         1.0        0.0    1.0    0.0   16        0.0        1.0   \n",
       "17         1.0        0.0    1.0    0.0   16        0.0        1.0   \n",
       "18         1.0        0.0    0.0    1.0   17        0.0        1.0   \n",
       "19         1.0        0.0    0.0    1.0   16        0.0        1.0   \n",
       "20         1.0        0.0    0.0    1.0   15        0.0        1.0   \n",
       "21         1.0        0.0    0.0    1.0   15        0.0        1.0   \n",
       "22         1.0        0.0    0.0    1.0   16        0.0        1.0   \n",
       "23         1.0        0.0    0.0    1.0   16        0.0        1.0   \n",
       "24         1.0        0.0    1.0    0.0   15        1.0        0.0   \n",
       "25         1.0        0.0    1.0    0.0   16        0.0        1.0   \n",
       "26         1.0        0.0    0.0    1.0   15        0.0        1.0   \n",
       "27         1.0        0.0    0.0    1.0   15        0.0        1.0   \n",
       "28         1.0        0.0    0.0    1.0   16        0.0        1.0   \n",
       "29         1.0        0.0    0.0    1.0   16        0.0        1.0   \n",
       "..         ...        ...    ...    ...  ...        ...        ...   \n",
       "365        0.0        1.0    0.0    1.0   18        1.0        0.0   \n",
       "366        0.0        1.0    0.0    1.0   18        0.0        1.0   \n",
       "367        0.0        1.0    1.0    0.0   17        1.0        0.0   \n",
       "368        0.0        1.0    1.0    0.0   18        0.0        1.0   \n",
       "369        0.0        1.0    1.0    0.0   18        1.0        0.0   \n",
       "370        0.0        1.0    1.0    0.0   19        0.0        1.0   \n",
       "371        0.0        1.0    0.0    1.0   18        1.0        0.0   \n",
       "372        0.0        1.0    1.0    0.0   17        0.0        1.0   \n",
       "373        0.0        1.0    1.0    0.0   17        1.0        0.0   \n",
       "374        0.0        1.0    1.0    0.0   18        1.0        0.0   \n",
       "375        0.0        1.0    1.0    0.0   18        1.0        0.0   \n",
       "376        0.0        1.0    1.0    0.0   20        0.0        1.0   \n",
       "377        0.0        1.0    1.0    0.0   18        1.0        0.0   \n",
       "378        0.0        1.0    1.0    0.0   18        0.0        1.0   \n",
       "379        0.0        1.0    1.0    0.0   17        1.0        0.0   \n",
       "380        0.0        1.0    0.0    1.0   18        0.0        1.0   \n",
       "381        0.0        1.0    0.0    1.0   18        1.0        0.0   \n",
       "382        0.0        1.0    0.0    1.0   17        0.0        1.0   \n",
       "383        0.0        1.0    0.0    1.0   19        1.0        0.0   \n",
       "384        0.0        1.0    0.0    1.0   18        1.0        0.0   \n",
       "385        0.0        1.0    1.0    0.0   18        1.0        0.0   \n",
       "386        0.0        1.0    1.0    0.0   18        1.0        0.0   \n",
       "387        0.0        1.0    1.0    0.0   19        1.0        0.0   \n",
       "388        0.0        1.0    1.0    0.0   18        0.0        1.0   \n",
       "389        0.0        1.0    1.0    0.0   18        0.0        1.0   \n",
       "390        0.0        1.0    0.0    1.0   20        0.0        1.0   \n",
       "391        0.0        1.0    0.0    1.0   17        0.0        1.0   \n",
       "392        0.0        1.0    0.0    1.0   21        1.0        0.0   \n",
       "393        0.0        1.0    0.0    1.0   18        1.0        0.0   \n",
       "394        0.0        1.0    0.0    1.0   19        0.0        1.0   \n",
       "\n",
       "     famsize_GT3  famsize_LE3  Pstatus_A    ...     higher  internet  \\\n",
       "0            1.0          0.0        1.0    ...          1         0   \n",
       "1            1.0          0.0        0.0    ...          1         1   \n",
       "2            0.0          1.0        0.0    ...          1         1   \n",
       "3            1.0          0.0        0.0    ...          1         1   \n",
       "4            1.0          0.0        0.0    ...          1         0   \n",
       "5            0.0          1.0        0.0    ...          1         1   \n",
       "6            0.0          1.0        0.0    ...          1         1   \n",
       "7            1.0          0.0        1.0    ...          1         0   \n",
       "8            0.0          1.0        1.0    ...          1         1   \n",
       "9            1.0          0.0        0.0    ...          1         1   \n",
       "10           1.0          0.0        0.0    ...          1         1   \n",
       "11           1.0          0.0        0.0    ...          1         1   \n",
       "12           0.0          1.0        0.0    ...          1         1   \n",
       "13           1.0          0.0        0.0    ...          1         1   \n",
       "14           1.0          0.0        1.0    ...          1         1   \n",
       "15           1.0          0.0        0.0    ...          1         1   \n",
       "16           1.0          0.0        0.0    ...          1         1   \n",
       "17           1.0          0.0        0.0    ...          1         0   \n",
       "18           1.0          0.0        0.0    ...          1         1   \n",
       "19           0.0          1.0        0.0    ...          1         1   \n",
       "20           1.0          0.0        0.0    ...          1         1   \n",
       "21           1.0          0.0        0.0    ...          1         1   \n",
       "22           0.0          1.0        0.0    ...          1         1   \n",
       "23           0.0          1.0        0.0    ...          1         1   \n",
       "24           1.0          0.0        0.0    ...          1         1   \n",
       "25           1.0          0.0        0.0    ...          1         1   \n",
       "26           1.0          0.0        0.0    ...          1         1   \n",
       "27           1.0          0.0        0.0    ...          1         1   \n",
       "28           0.0          1.0        1.0    ...          1         1   \n",
       "29           1.0          0.0        0.0    ...          1         1   \n",
       "..           ...          ...        ...    ...        ...       ...   \n",
       "365          1.0          0.0        0.0    ...          1         0   \n",
       "366          0.0          1.0        0.0    ...          1         1   \n",
       "367          1.0          0.0        0.0    ...          1         1   \n",
       "368          1.0          0.0        0.0    ...          1         1   \n",
       "369          1.0          0.0        0.0    ...          1         1   \n",
       "370          0.0          1.0        0.0    ...          1         0   \n",
       "371          0.0          1.0        0.0    ...          0         1   \n",
       "372          1.0          0.0        0.0    ...          1         0   \n",
       "373          1.0          0.0        0.0    ...          1         1   \n",
       "374          0.0          1.0        0.0    ...          1         1   \n",
       "375          1.0          0.0        0.0    ...          1         1   \n",
       "376          1.0          0.0        0.0    ...          1         1   \n",
       "377          0.0          1.0        0.0    ...          1         1   \n",
       "378          1.0          0.0        0.0    ...          1         1   \n",
       "379          1.0          0.0        0.0    ...          1         1   \n",
       "380          1.0          0.0        0.0    ...          1         1   \n",
       "381          1.0          0.0        0.0    ...          1         1   \n",
       "382          1.0          0.0        0.0    ...          1         1   \n",
       "383          1.0          0.0        0.0    ...          1         0   \n",
       "384          1.0          0.0        0.0    ...          1         0   \n",
       "385          1.0          0.0        0.0    ...          1         0   \n",
       "386          1.0          0.0        0.0    ...          1         1   \n",
       "387          1.0          0.0        0.0    ...          1         1   \n",
       "388          0.0          1.0        0.0    ...          1         1   \n",
       "389          1.0          0.0        0.0    ...          1         0   \n",
       "390          0.0          1.0        1.0    ...          1         0   \n",
       "391          0.0          1.0        0.0    ...          1         1   \n",
       "392          1.0          0.0        0.0    ...          1         0   \n",
       "393          0.0          1.0        0.0    ...          1         1   \n",
       "394          0.0          1.0        0.0    ...          1         1   \n",
       "\n",
       "     romantic  famrel  freetime  goout  Dalc  Walc  health  absences  \n",
       "0           0       4         3      4     1     1       3         6  \n",
       "1           0       5         3      3     1     1       3         4  \n",
       "2           0       4         3      2     2     3       3        10  \n",
       "3           1       3         2      2     1     1       5         2  \n",
       "4           0       4         3      2     1     2       5         4  \n",
       "5           0       5         4      2     1     2       5        10  \n",
       "6           0       4         4      4     1     1       3         0  \n",
       "7           0       4         1      4     1     1       1         6  \n",
       "8           0       4         2      2     1     1       1         0  \n",
       "9           0       5         5      1     1     1       5         0  \n",
       "10          0       3         3      3     1     2       2         0  \n",
       "11          0       5         2      2     1     1       4         4  \n",
       "12          0       4         3      3     1     3       5         2  \n",
       "13          0       5         4      3     1     2       3         2  \n",
       "14          1       4         5      2     1     1       3         0  \n",
       "15          0       4         4      4     1     2       2         4  \n",
       "16          0       3         2      3     1     2       2         6  \n",
       "17          0       5         3      2     1     1       4         4  \n",
       "18          0       5         5      5     2     4       5        16  \n",
       "19          0       3         1      3     1     3       5         4  \n",
       "20          0       4         4      1     1     1       1         0  \n",
       "21          0       5         4      2     1     1       5         0  \n",
       "22          0       4         5      1     1     3       5         2  \n",
       "23          0       5         4      4     2     4       5         0  \n",
       "24          0       4         3      2     1     1       5         2  \n",
       "25          0       1         2      2     1     3       5        14  \n",
       "26          0       4         2      2     1     2       5         2  \n",
       "27          0       2         2      4     2     4       1         4  \n",
       "28          0       5         3      3     1     1       5         4  \n",
       "29          1       4         4      5     5     5       5        16  \n",
       "..        ...     ...       ...    ...   ...   ...     ...       ...  \n",
       "365         0       3         3      4     2     4       3         4  \n",
       "366         1       4         2      2     2     2       5         0  \n",
       "367         1       5         2      1     1     2       1         0  \n",
       "368         1       5         2      3     1     2       4         0  \n",
       "369         1       3         2      2     4     2       5        10  \n",
       "370         1       3         2      2     1     1       3         4  \n",
       "371         1       4         3      3     2     3       3         3  \n",
       "372         1       3         4      3     1     1       3         8  \n",
       "373         0       3         5      5     1     3       1        14  \n",
       "374         0       5         4      4     1     1       1         0  \n",
       "375         0       4         3      2     1     2       4         2  \n",
       "376         1       5         4      3     1     1       3         4  \n",
       "377         0       5         4      3     3     4       2         4  \n",
       "378         1       4         1      3     1     2       1         0  \n",
       "379         0       4         5      4     2     3       1        17  \n",
       "380         0       3         2      4     1     4       2         4  \n",
       "381         1       4         4      3     1     3       5         5  \n",
       "382         0       4         4      3     1     1       3         2  \n",
       "383         0       4         3      2     1     3       5         0  \n",
       "384         0       5         4      3     4     3       3        14  \n",
       "385         0       5         3      3     1     3       4         2  \n",
       "386         1       4         4      3     2     2       5         7  \n",
       "387         0       5         4      2     1     2       5         0  \n",
       "388         0       4         3      4     1     1       1         0  \n",
       "389         0       1         1      1     1     1       5         0  \n",
       "390         0       5         5      4     4     5       4        11  \n",
       "391         0       2         4      5     3     4       2         3  \n",
       "392         0       5         5      3     3     3       3         3  \n",
       "393         0       4         4      1     3     4       5         0  \n",
       "394         0       3         2      3     3     3       5         5  \n",
       "\n",
       "[395 rows x 48 columns]>"
      ]
     },
     "execution_count": 4,
     "metadata": {},
     "output_type": "execute_result"
    }
   ],
   "source": [
    "def preprocess_features(X):\n",
    "    ''' Preprocesses the student data and converts non-numeric binary variables into\n",
    "        binary (0/1) variables. Converts categorical variables into dummy variables. '''\n",
    "    \n",
    "    # Initialize new output DataFrame\n",
    "    output = pd.DataFrame(index = X.index)\n",
    "\n",
    "    # Investigate each feature column for the data\n",
    "    for col, col_data in X.iteritems():\n",
    "        \n",
    "        # If data type is non-numeric, replace all yes/no values with 1/0\n",
    "        if col_data.dtype == object:\n",
    "            col_data = col_data.replace(['yes', 'no'], [1, 0])\n",
    "\n",
    "        # If data type is categorical, convert to dummy variables\n",
    "        if col_data.dtype == object:\n",
    "            # Example: 'school' => 'school_GP' and 'school_MS'\n",
    "            col_data = pd.get_dummies(col_data, prefix = col)  \n",
    "        \n",
    "        # Collect the revised columns\n",
    "        output = output.join(col_data)\n",
    "    \n",
    "    return output\n",
    "\n",
    "X_all = preprocess_features(X_all)\n",
    "print \"Processed feature columns ({} total features):\\n{}\".format(len(X_all.columns), list(X_all.columns))\n",
    "X_all.head"
   ]
  },
  {
   "cell_type": "markdown",
   "metadata": {},
   "source": [
    "### Implementation: Training and Testing Data Split\n",
    "So far, we have converted all _categorical_ features into numeric values. For the next step, we split the data (both features and corresponding labels) into training and test sets. In the following code cell below, you will need to implement the following:\n",
    "- Randomly shuffle and split the data (`X_all`, `y_all`) into training and testing subsets.\n",
    "  - Use 300 training points (approximately 75%) and 95 testing points (approximately 25%).\n",
    "  - Set a `random_state` for the function(s) you use, if provided.\n",
    "  - Store the results in `X_train`, `X_test`, `y_train`, and `y_test`."
   ]
  },
  {
   "cell_type": "code",
   "execution_count": 5,
   "metadata": {
    "collapsed": false
   },
   "outputs": [
    {
     "name": "stdout",
     "output_type": "stream",
     "text": [
      "Training set has 300 samples.\n",
      "Testing set has 95 samples.\n"
     ]
    }
   ],
   "source": [
    "# TODO: Import any additional functionality you may need here\n",
    "from sklearn.cross_validation import train_test_split\n",
    "# TODO: Set the number of training points\n",
    "num_train = 300\n",
    "\n",
    "# Set the number of testing points\n",
    "num_test = X_all.shape[0] - num_train\n",
    "\n",
    "# TODO: Shuffle and split the dataset into the number of training and testing points above\n",
    "X_train, X_test, y_train, y_test = train_test_split(X_all, y_all, test_size=num_test, random_state=66)\n",
    "\n",
    "\n",
    "# Show the results of the split\n",
    "print \"Training set has {} samples.\".format(X_train.shape[0])\n",
    "print \"Testing set has {} samples.\".format(X_test.shape[0])"
   ]
  },
  {
   "cell_type": "markdown",
   "metadata": {},
   "source": [
    "## Training and Evaluating Models\n",
    "In this section, you will choose 3 supervised learning models that are appropriate for this problem and available in `scikit-learn`. You will first discuss the reasoning behind choosing these three models by considering what you know about the data and each model's strengths and weaknesses. You will then fit the model to varying sizes of training data (100 data points, 200 data points, and 300 data points) and measure the F<sub>1</sub> score. You will need to produce three tables (one for each model) that shows the training set size, training time, prediction time, F<sub>1</sub> score on the training set, and F<sub>1</sub> score on the testing set.\n",
    "\n",
    "**The following supervised learning models are currently available in** [`scikit-learn`](http://scikit-learn.org/stable/supervised_learning.html) **that you may choose from:**\n",
    "- Gaussian Naive Bayes (GaussianNB)\n",
    "- Decision Trees\n",
    "- Ensemble Methods (Bagging, AdaBoost, Random Forest, Gradient Boosting)\n",
    "- K-Nearest Neighbors (KNeighbors)\n",
    "- Stochastic Gradient Descent (SGDC)\n",
    "- Support Vector Machines (SVM)\n",
    "- Logistic Regression"
   ]
  },
  {
   "cell_type": "markdown",
   "metadata": {},
   "source": [
    "### Question 2 - Model Application\n",
    "*List three supervised learning models that are appropriate for this problem. For each model chosen*\n",
    "- Describe one real-world application in industry where the model can be applied. *(You may need to do a small bit of research for this — give references!)* \n",
    "- What are the strengths of the model; when does it perform well? \n",
    "- What are the weaknesses of the model; when does it perform poorly?\n",
    "- What makes this model a good candidate for the problem, given what you know about the data?"
   ]
  },
  {
   "cell_type": "markdown",
   "metadata": {},
   "source": [
    "**Answer: **\n",
    "\n",
    "Decision Trees\n",
    "\n",
    "In industry, a example is to predict C-Section Risk using medical records of 1000 women.[reference](http://www4.stat.ncsu.edu/~dickey/Analytics/Datamine/Reference%20Papers/machine%20learning.pdf)\n",
    "Strength of decision tree model is:\n",
    "\n",
    "1.it can deal with both categorical and numerical features\n",
    "\n",
    "2.the model is simple to understand and people can interpret the model easily by printing the tree to see how it make decisions(while box model).\n",
    "\n",
    "3.it is fast to train so that it can deal with large dataset.\n",
    "\n",
    "4.it has no language bias(restriction bias), in other words, the hypothesis space is extremely large. A decision tree can express complicated pattern such as XOR. \n",
    "\n",
    "5.it is robust to noise, by setting proper stopping conditions.\n",
    "\n",
    "Weakness:\n",
    "\n",
    "1.it has a large search bias(preference), say, you choose the first node with the highest IG, it is a greedy approach, which may fall into local minimum.In other word, it is hard to find the optimal decision tree.\n",
    "\n",
    "2.it often runs into overfitting. If a tree is too deep and number of training data is small, it can actually predict every training points by memerize them.\n",
    "\n",
    "3.If you do not do feature transformation, the tree need to be very deep in order to express the combination of features.\n",
    "\n",
    "4.Considering bias and variance together, a decision tree may not have a best performance compared with other model. That's to say, a deep tree can easily overfit the data, and overfitting may happens very early(say, depth=4), and at that depth, a tree is not complex enough and underfit the data(compare with other model)\n",
    "\n",
    "\n",
    "for this problem:\n",
    "\n",
    "1.the features are all transformed into binary or numeric. Note that for numeric variables, such as age, freetime, the values are all integers. This will make the decision tree easy to choose node. That's to say, you only need to try finite(for freetime feature, 5 times) number of spliting. \n",
    "\n",
    "\n",
    "Gaussian Naive Bayes (GaussianNB)\n",
    "\n",
    "applications:[spam detection](https://en.wikipedia.org/wiki/Naive_Bayes_classifier) [automatic medical diagnosis](http://www.research.ibm.com/people/r/rish/papers/RC22230.pdf)\n",
    "\n",
    "strength:\n",
    "\n",
    "1.very quick to train, O(size of data) time complexity.\n",
    "\n",
    "weakness:\n",
    "\n",
    "1.it relys on the assumption that features are independent with each other. In most cases, the assumption is not true, and the model can learn something wrong.\n",
    "\n",
    "2.for n features, you should consider n^2 pair of independence.That is bad when you do not have sufficient data. \n",
    "http://scikit-learn.org/stable/modules/naive_bayes.html#gaussian-naive-bayes\n",
    "\n",
    "for this project:\n",
    "\n",
    "1.Typically when I do supervise learning, I try NB first and use it as baseline.\n",
    "\n",
    "2.'freetime' and 'goout' are not independent. If a student has little freetime, it is more likely that he seldom go out with friends. In this case, the assumption of NB is not satisfied, and the model will learn something that is misleading.\n",
    "\n",
    "Support Vector Machines (SVM)\n",
    "\n",
    "1.PCA+SVM can do facial recognition well. [example](http://scikit-learn.org/stable/auto_examples/applications/face_recognition.html)\n",
    "\n",
    "2.SVM can do [text and hypertext categorization and hand-written characters recognition](https://en.wikipedia.org/wiki/Support_vector_machine) \n",
    "\n",
    "3.[pattern recognitiom, medical diagnostics and object detection.](https://link.springer.com/chapter/10.1007/3-540-26981-9_41)\n",
    "\n",
    "strength:\n",
    "\n",
    "1.do well when two class has a clear boundary(margin is large), even if the boundary is complex.\n",
    "\n",
    "weakness:\n",
    "\n",
    "1.weak when data is noisy, in which case the boundary is not clear.\n",
    "\n",
    "2.kernel function and distance function should be well designed(sellected) according to the data and problem. In other word, it depends on how you use domain knowledge.And you should try grid search exhaustedly.\n",
    "\n",
    "for this project:\n",
    "\n",
    "1.The dataset has a small number of sample(390), which is good to apply SVM.\n",
    "\n",
    "2.The students who pass the final exam are usually have an obviously different pattern with those do not pass the exam. In intuition, the margin of the two class tend to be clear.\n"
   ]
  },
  {
   "cell_type": "markdown",
   "metadata": {},
   "source": [
    "### Setup\n",
    "Run the code cell below to initialize three helper functions which you can use for training and testing the three supervised learning models you've chosen above. The functions are as follows:\n",
    "- `train_classifier` - takes as input a classifier and training data and fits the classifier to the data.\n",
    "- `predict_labels` - takes as input a fit classifier, features, and a target labeling and makes predictions using the F<sub>1</sub> score.\n",
    "- `train_predict` - takes as input a classifier, and the training and testing data, and performs `train_clasifier` and `predict_labels`.\n",
    " - This function will report the F<sub>1</sub> score for both the training and testing data separately."
   ]
  },
  {
   "cell_type": "code",
   "execution_count": 6,
   "metadata": {
    "collapsed": false
   },
   "outputs": [],
   "source": [
    "def train_classifier(clf, X_train, y_train):\n",
    "    ''' Fits a classifier to the training data. '''\n",
    "    \n",
    "    # Start the clock, train the classifier, then stop the clock\n",
    "    start = time()\n",
    "    clf.fit(X_train, y_train)\n",
    "    end = time()\n",
    "    \n",
    "    # Print the results\n",
    "    print \"Trained model in {:.4f} seconds\".format(end - start)\n",
    "\n",
    "    \n",
    "def predict_labels(clf, features, target):\n",
    "    ''' Makes predictions using a fit classifier based on F1 score. '''\n",
    "    \n",
    "    # Start the clock, make predictions, then stop the clock\n",
    "    start = time()\n",
    "    y_pred = clf.predict(features)\n",
    "    end = time()\n",
    "    \n",
    "    # Print and return results\n",
    "    print \"Made predictions in {:.4f} seconds.\".format(end - start)\n",
    "    return f1_score(target.values, y_pred, pos_label='yes')\n",
    "\n",
    "\n",
    "def train_predict(clf, X_train, y_train, X_test, y_test):\n",
    "    ''' Train and predict using a classifer based on F1 score. '''\n",
    "    \n",
    "    # Indicate the classifier and the training set size\n",
    "    print \"Training a {} using a training set size of {}. . .\".format(clf.__class__.__name__, len(X_train))\n",
    "    \n",
    "    # Train the classifier\n",
    "    train_classifier(clf, X_train, y_train)\n",
    "    \n",
    "    # Print the results of prediction for both training and testing\n",
    "    print \"F1 score for training set: {:.4f}.\".format(predict_labels(clf, X_train, y_train))\n",
    "    print \"F1 score for test set: {:.4f}.\".format(predict_labels(clf, X_test, y_test))"
   ]
  },
  {
   "cell_type": "markdown",
   "metadata": {},
   "source": [
    "### Implementation: Model Performance Metrics\n",
    "With the predefined functions above, you will now import the three supervised learning models of your choice and run the `train_predict` function for each one. Remember that you will need to train and predict on each classifier for three different training set sizes: 100, 200, and 300. Hence, you should expect to have 9 different outputs below — 3 for each model using the varying training set sizes. In the following code cell, you will need to implement the following:\n",
    "- Import the three supervised learning models you've discussed in the previous section.\n",
    "- Initialize the three models and store them in `clf_A`, `clf_B`, and `clf_C`.\n",
    " - Use a `random_state` for each model you use, if provided.\n",
    " - **Note:** Use the default settings for each model — you will tune one specific model in a later section.\n",
    "- Create the different training set sizes to be used to train each model.\n",
    " - *Do not reshuffle and resplit the data! The new training points should be drawn from `X_train` and `y_train`.*\n",
    "- Fit each model with each training set size and make predictions on the test set (9 in total).  \n",
    "**Note:** Three tables are provided after the following code cell which can be used to store your results."
   ]
  },
  {
   "cell_type": "code",
   "execution_count": 7,
   "metadata": {
    "collapsed": false
   },
   "outputs": [
    {
     "name": "stdout",
     "output_type": "stream",
     "text": [
      "Training a GaussianNB using a training set size of 100. . .\n",
      "Trained model in 0.0014 seconds\n",
      "Made predictions in 0.0004 seconds.\n",
      "F1 score for training set: 0.8662.\n",
      "Made predictions in 0.0003 seconds.\n",
      "F1 score for test set: 0.7391.\n",
      "Training a GaussianNB using a training set size of 200. . .\n",
      "Trained model in 0.0037 seconds\n",
      "Made predictions in 0.0005 seconds.\n",
      "F1 score for training set: 0.8399.\n",
      "Made predictions in 0.0003 seconds.\n",
      "F1 score for test set: 0.7714.\n",
      "Training a GaussianNB using a training set size of 300. . .\n",
      "Trained model in 0.0010 seconds\n",
      "Made predictions in 0.0005 seconds.\n",
      "F1 score for training set: 0.8141.\n",
      "Made predictions in 0.0004 seconds.\n",
      "F1 score for test set: 0.7121.\n",
      "Training a SVC using a training set size of 100. . .\n",
      "Trained model in 0.0017 seconds\n",
      "Made predictions in 0.0009 seconds.\n",
      "F1 score for training set: 0.9032.\n",
      "Made predictions in 0.0011 seconds.\n",
      "F1 score for test set: 0.7871.\n",
      "Training a SVC using a training set size of 200. . .\n",
      "Trained model in 0.0045 seconds\n",
      "Made predictions in 0.0029 seconds.\n",
      "F1 score for training set: 0.8958.\n",
      "Made predictions in 0.0016 seconds.\n",
      "F1 score for test set: 0.7724.\n",
      "Training a SVC using a training set size of 300. . .\n",
      "Trained model in 0.0079 seconds\n",
      "Made predictions in 0.0059 seconds.\n",
      "F1 score for training set: 0.8715.\n",
      "Made predictions in 0.0020 seconds.\n",
      "F1 score for test set: 0.7947.\n",
      "Training a DecisionTreeClassifier using a training set size of 100. . .\n",
      "Trained model in 0.0008 seconds\n",
      "Made predictions in 0.0002 seconds.\n",
      "F1 score for training set: 1.0000.\n",
      "Made predictions in 0.0002 seconds.\n",
      "F1 score for test set: 0.6500.\n",
      "Training a DecisionTreeClassifier using a training set size of 200. . .\n",
      "Trained model in 0.0013 seconds\n",
      "Made predictions in 0.0002 seconds.\n",
      "F1 score for training set: 1.0000.\n",
      "Made predictions in 0.0002 seconds.\n",
      "F1 score for test set: 0.6087.\n",
      "Training a DecisionTreeClassifier using a training set size of 300. . .\n",
      "Trained model in 0.0020 seconds\n",
      "Made predictions in 0.0003 seconds.\n",
      "F1 score for training set: 1.0000.\n",
      "Made predictions in 0.0002 seconds.\n",
      "F1 score for test set: 0.6452.\n"
     ]
    }
   ],
   "source": [
    "# TODO: Import the three supervised learning models from sklearn\n",
    "from sklearn.naive_bayes import GaussianNB\n",
    "from sklearn import svm\n",
    "from sklearn.tree import DecisionTreeClassifier\n",
    "\n",
    "# TODO: Initialize the three models\n",
    "clf_A = GaussianNB()\n",
    "clf_B = svm.SVC(random_state=99)\n",
    "clf_C = DecisionTreeClassifier(random_state=10)\n",
    "\n",
    "# TODO: Set up the training set sizes\n",
    "X_train_100 = X_train[:100]\n",
    "y_train_100 = y_train[:100]\n",
    "\n",
    "X_train_200 = X_train[:200]\n",
    "y_train_200 = y_train[:200]\n",
    "\n",
    "X_train_300 = X_train[:300]\n",
    "y_train_300 = y_train[:300]\n",
    "\n",
    "clf_group = [clf_A, clf_B, clf_C]\n",
    "X_train_group = [X_train_100, X_train_200, X_train_300]\n",
    "y_train_group = [y_train_100, y_train_200, y_train_300]\n",
    "\n",
    "# TODO: Execute the 'train_predict' function for each classifier and each training set size\n",
    "for clf in clf_group:\n",
    "    for X, y in zip(X_train_group, y_train_group):\n",
    "        train_predict(clf, X, y, X_test, y_test)"
   ]
  },
  {
   "cell_type": "markdown",
   "metadata": {},
   "source": [
    "### Tabular Results\n",
    "Edit the cell below to see how a table can be designed in [Markdown](https://github.com/adam-p/markdown-here/wiki/Markdown-Cheatsheet#tables). You can record your results from above in the tables provided."
   ]
  },
  {
   "cell_type": "markdown",
   "metadata": {},
   "source": [
    "** Classifer 1 - GaussianNB**  \n",
    "\n",
    "| Training Set Size | Training Time | Prediction Time (test) | F1 Score (train) | F1 Score (test) |\n",
    "| :---------------: | :---------------------: | :--------------------: | :--------------: | :-------------: |\n",
    "| 100               |    0.0017                     |   0.0003                     |       0.8662           |          0.7391       |\n",
    "| 200               |        0.0009           |        0.0003                 |      0.8399            |              0.7714   |\n",
    "| 300               |           0.0011              |        0.0003                 |          0.8141        |    0.7121      |\n",
    "\n",
    "** Classifer 2 - SVC**  \n",
    "\n",
    "| Training Set Size | Training Time | Prediction Time (test) | F1 Score (train) | F1 Score (test) |\n",
    "| :---------------: | :---------------------: | :--------------------: | :--------------: | :-------------: |\n",
    "| 100            |    0.0016                     |         0.0010               |      0.9032            |              0.7871    |\n",
    "| 200               |     0.0040            |    0.0014                    |       0.8958           |               0.7724  |\n",
    "| 300               |       0.0081                  |      0.0020                  |   0.8715               |    0.7947    |\n",
    "\n",
    "** Classifer 3 - DecisionTreeClassifier**  \n",
    "\n",
    "| Training Set Size | Training Time | Prediction Time (test) | F1 Score (train) | F1 Score (test) |\n",
    "| :---------------: | :---------------------: | :--------------------: | :--------------: | :-------------: |\n",
    "| 100               |   0.0009                      |       0.0002                 |       1.0000           |         0.6500        |\n",
    "| 200               |       0.0014                  |        0.0002                |      1.0000            |                0.6087 |\n",
    "| 300               |     0.0023                    |       0.0002                 |     1.0000             |       0.6452          |"
   ]
  },
  {
   "cell_type": "markdown",
   "metadata": {},
   "source": [
    "## Choosing the Best Model\n",
    "In this final section, you will choose from the three supervised learning models the *best* model to use on the student data. You will then perform a grid search optimization for the model over the entire training set (`X_train` and `y_train`) by tuning at least one parameter to improve upon the untuned model's F<sub>1</sub> score. "
   ]
  },
  {
   "cell_type": "markdown",
   "metadata": {},
   "source": [
    "### Question 3 - Choosing the Best Model\n",
    "*Based on the experiments you performed earlier, in one to two paragraphs, explain to the board of supervisors what single model you chose as the best model. Which model is generally the most appropriate based on the available data, limited resources, cost, and performance?*"
   ]
  },
  {
   "cell_type": "markdown",
   "metadata": {},
   "source": [
    "**Answer: **I would like to choose SVC as the best model. As the experiment above, SVC has a higher F1 score on testing set than other two models, so it made a better prediction on testing data. The available data has a small size, so it is suitable for SVC to learn. Also, SVC model has many hyperparameters that can be tuned. After I carry on grid search, I expect the F1 score(on testing set) is higher than using default hyperparameters. "
   ]
  },
  {
   "cell_type": "markdown",
   "metadata": {},
   "source": [
    "### Question 4 - Model in Layman's Terms\n",
    "*In one to two paragraphs, explain to the board of directors in layman's terms how the final model chosen is supposed to work. Be sure that you are describing the major qualities of the model, such as how the model is trained and how the model makes a prediction. Avoid using advanced mathematical or technical jargon, such as describing equations or discussing the algorithm implementation.*"
   ]
  },
  {
   "cell_type": "markdown",
   "metadata": {},
   "source": [
    "**Answer: **Look at the points of training data, some are red and others are black.Red means the student passed the exam; while black means one did not.There is a gap between red points and black points. After seeing those points, SVC can generate lines or curves just in the middle of the gap, say, there are black points on the left of the line and there are red points on the right. For each point in testing set, if it falls on the left of the lines, SVC will make a prediction of black; if it falls on the right of the line, SVC will make a prediction of red."
   ]
  },
  {
   "cell_type": "markdown",
   "metadata": {},
   "source": [
    "### Implementation: Model Tuning\n",
    "Fine tune the chosen model. Use grid search (`GridSearchCV`) with at least one important parameter tuned with at least 3 different values. You will need to use the entire training set for this. In the code cell below, you will need to implement the following:\n",
    "- Import [`sklearn.grid_search.GridSearchCV`](http://scikit-learn.org/0.17/modules/generated/sklearn.grid_search.GridSearchCV.html) and [`sklearn.metrics.make_scorer`](http://scikit-learn.org/stable/modules/generated/sklearn.metrics.make_scorer.html).\n",
    "- Create a dictionary of parameters you wish to tune for the chosen model.\n",
    " - Example: `parameters = {'parameter' : [list of values]}`.\n",
    "- Initialize the classifier you've chosen and store it in `clf`.\n",
    "- Create the F<sub>1</sub> scoring function using `make_scorer` and store it in `f1_scorer`.\n",
    " - Set the `pos_label` parameter to the correct value!\n",
    "- Perform grid search on the classifier `clf` using `f1_scorer` as the scoring method, and store it in `grid_obj`.\n",
    "- Fit the grid search object to the training data (`X_train`, `y_train`), and store it in `grid_obj`."
   ]
  },
  {
   "cell_type": "code",
   "execution_count": 28,
   "metadata": {
    "collapsed": false
   },
   "outputs": [
    {
     "name": "stdout",
     "output_type": "stream",
     "text": [
      "<bound method SVC.get_params of SVC(C=0.1, cache_size=200, class_weight=None, coef0=0.0,\n",
      "  decision_function_shape=None, degree=1, gamma='auto', kernel='poly',\n",
      "  max_iter=-1, probability=False, random_state=87, shrinking=True,\n",
      "  tol=0.001, verbose=False)>\n",
      "Made predictions in 0.0041 seconds.\n",
      "Tuned model has a training F1 score of 0.8048.\n",
      "Made predictions in 0.0013 seconds.\n",
      "Tuned model has a testing F1 score of 0.7975.\n"
     ]
    }
   ],
   "source": [
    "# TODO: Import 'GridSearchCV' and 'make_scorer'\n",
    "\n",
    "from sklearn.grid_search import GridSearchCV\n",
    "from sklearn.metrics import make_scorer, f1_score\n",
    "\n",
    "# TODO: Create the parameters list you wish to tune\n",
    " \n",
    "parameters = [{'kernel': ['poly'],'degree':[1,2,3,4,5,10], 'C': [0.1,5,8,9,10,11,12,100]},{'kernel': ['sigmoid'], 'C':[0.01,0.09,0.08,0.1,1,10], 'gamma':[0.01,0.09,0.08,0.1,1,10],'coef0':[-0.9,-1,-1.1,0,1]}]\n",
    "#parameters = [{'kernel': ['poly'],'degree':[1,2,3,4,5,10], 'C': [0.1,5,8,9,10,11,12,100]}]\n",
    "\n",
    "# TODO: Initialize the classifier\n",
    "\n",
    "clf= svm.SVC(random_state=87)\n",
    "\n",
    "# TODO: Make an f1 scoring function using 'make_scorer' \n",
    "f1_scorer = make_scorer(f1_score, pos_label=\"yes\")\n",
    "\n",
    "# TODO: Perform grid search on the classifier using the f1_scorer as the scoring method\n",
    "grid_obj = GridSearchCV(estimator=clf, scoring=f1_scorer, param_grid=parameters, cv=3)\n",
    "\n",
    "# TODO: Fit the grid search object to the training data and find the optimal parameters\n",
    "grid_obj.fit(X_train, y_train)\n",
    "print(grid_obj.best_estimator_.get_params)\n",
    "# Get the estimator\n",
    "clf = grid_obj.best_estimator_\n",
    "\n",
    "# Report the final F1 score for training and testing after parameter tuning\n",
    "print \"Tuned model has a training F1 score of {:.4f}.\".format(predict_labels(clf, X_train, y_train))\n",
    "print \"Tuned model has a testing F1 score of {:.4f}.\".format(predict_labels(clf, X_test, y_test))"
   ]
  },
  {
   "cell_type": "markdown",
   "metadata": {},
   "source": [
    "Here, because decision tree overfits the data as default, I also do grid search on it to see what f1 score it can achieve."
   ]
  },
  {
   "cell_type": "code",
   "execution_count": 9,
   "metadata": {
    "collapsed": false
   },
   "outputs": [
    {
     "name": "stdout",
     "output_type": "stream",
     "text": [
      "<bound method DecisionTreeClassifier.get_params of DecisionTreeClassifier(class_weight=None, criterion='gini', max_depth=2,\n",
      "            max_features=40, max_leaf_nodes=2, min_samples_leaf=1,\n",
      "            min_samples_split=1, min_weight_fraction_leaf=0.0,\n",
      "            presort=False, random_state=86, splitter='best')>\n",
      "Made predictions in 0.0002 seconds.\n",
      "Tuned model has a training F1 score of 0.8265.\n",
      "Made predictions in 0.0002 seconds.\n",
      "Tuned model has a testing F1 score of 0.7626.\n"
     ]
    }
   ],
   "source": [
    "\n",
    "\n",
    "from sklearn.grid_search import GridSearchCV\n",
    "from sklearn.metrics import make_scorer, f1_score\n",
    "\n",
    "# TODO: Create the parameters list you wish to tune\n",
    "parameters = {'max_depth':[2,3,4,5,6],'min_samples_split':[1,2,3,4,5,6],'max_leaf_nodes':[2,3,4,5],'max_features':[39,40,41,42,43,44,45,46,47,48]}\n",
    " \n",
    "# TODO: Initialize the classifier\n",
    "clf = DecisionTreeClassifier(random_state=86)\n",
    "\n",
    "\n",
    "# TODO: Make an f1 scoring function using 'make_scorer' \n",
    "f1_scorer = make_scorer(f1_score, pos_label=\"yes\")\n",
    "\n",
    "# TODO: Perform grid search on the classifier using the f1_scorer as the scoring method\n",
    "grid_obj = GridSearchCV(estimator=clf, scoring=f1_scorer, param_grid=parameters, cv=3)\n",
    "\n",
    "# TODO: Fit the grid search object to the training data and find the optimal parameters\n",
    "grid_obj.fit(X_train, y_train)\n",
    "print(grid_obj.best_estimator_.get_params)\n",
    "# Get the estimator\n",
    "clf = grid_obj.best_estimator_\n",
    "\n",
    "# Report the final F1 score for training and testing after parameter tuning\n",
    "print \"Tuned model has a training F1 score of {:.4f}.\".format(predict_labels(clf, X_train, y_train))\n",
    "print \"Tuned model has a testing F1 score of {:.4f}.\".format(predict_labels(clf, X_test, y_test))"
   ]
  },
  {
   "cell_type": "markdown",
   "metadata": {},
   "source": [
    "\n",
    "### Question 5 - Final F<sub>1</sub> Score\n",
    "*What is the final model's F<sub>1</sub> score for training and testing? How does that score compare to the untuned model?*"
   ]
  },
  {
   "cell_type": "markdown",
   "metadata": {},
   "source": [
    "**Answer: **\n",
    "\n",
    "SVC:\n",
    "\n",
    "      train    test\n",
    "\n",
    "default:0.8715\t0.7947\n",
    "\n",
    "tuned  :0.8048 0.7975\n",
    "\n",
    "After tuning, test score increase slightly, training score decrease much. And training score and tesing score is very very close. These illustrate the tuned model reduce overfitting compare to untuned model.\n",
    "\n",
    "Decision Tree:\n",
    "\n",
    "      train   test\n",
    "      \n",
    "default:1.0000\t0.6452\n",
    "\n",
    "tuned:  0.8265 0.7626\n",
    "\n",
    "Before tuning, the model overfitted the data greatly, as trainig score = 1 and testing score is not very high. After tuning, the testing score increase much and training score decrease much and these two go quite closely. This illustrates the model after tuning has smaller variance than untuned model.In this case, the grid search make difference!"
   ]
  },
  {
   "cell_type": "markdown",
   "metadata": {},
   "source": [
    "> **Note**: Once you have completed all of the code implementations and successfully answered each question above, you may finalize your work by exporting the iPython Notebook as an HTML document. You can do this by using the menu above and navigating to  \n",
    "**File -> Download as -> HTML (.html)**. Include the finished document along with this notebook as your submission."
   ]
  }
 ],
 "metadata": {
  "anaconda-cloud": {},
  "kernelspec": {
   "display_name": "Python [default]",
   "language": "python",
   "name": "python2"
  },
  "language_info": {
   "codemirror_mode": {
    "name": "ipython",
    "version": 2
   },
   "file_extension": ".py",
   "mimetype": "text/x-python",
   "name": "python",
   "nbconvert_exporter": "python",
   "pygments_lexer": "ipython2",
   "version": "2.7.12"
  }
 },
 "nbformat": 4,
 "nbformat_minor": 0
}
